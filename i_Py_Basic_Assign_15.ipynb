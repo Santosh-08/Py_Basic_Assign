{
 "cells": [
  {
   "cell_type": "markdown",
   "id": "742486ce",
   "metadata": {},
   "source": [
    "# How many seconds are in an hour? Use the interactive interpreter as a calculator and multiply the number of seconds in a minute (60) by the number of minutes in an hour (also 60)."
   ]
  },
  {
   "cell_type": "code",
   "execution_count": 1,
   "id": "2b6e7599",
   "metadata": {},
   "outputs": [
    {
     "data": {
      "text/plain": [
       "3600"
      ]
     },
     "execution_count": 1,
     "metadata": {},
     "output_type": "execute_result"
    }
   ],
   "source": [
    "60*60\n"
   ]
  },
  {
   "cell_type": "markdown",
   "id": "8194a829",
   "metadata": {},
   "source": [
    "# Assign the result from the previous task (seconds in an hour) to a variable called seconds_per_hour."
   ]
  },
  {
   "cell_type": "code",
   "execution_count": 2,
   "id": "caeed1da",
   "metadata": {},
   "outputs": [
    {
     "data": {
      "text/plain": [
       "3600"
      ]
     },
     "execution_count": 2,
     "metadata": {},
     "output_type": "execute_result"
    }
   ],
   "source": [
    "Seconds_per_hour =60*60\n",
    "Seconds_per_hour\n"
   ]
  },
  {
   "cell_type": "markdown",
   "id": "dd7812ec",
   "metadata": {},
   "source": [
    "# How many seconds do you think there are in a day? Make use of the variables seconds per hour and minutes per hour."
   ]
  },
  {
   "cell_type": "code",
   "execution_count": 3,
   "id": "160e9fe4",
   "metadata": {},
   "outputs": [
    {
     "data": {
      "text/plain": [
       "86400"
      ]
     },
     "execution_count": 3,
     "metadata": {},
     "output_type": "execute_result"
    }
   ],
   "source": [
    "Seconds_per_day = Seconds_per_hour *24\n",
    "Seconds_per_day\n"
   ]
  },
  {
   "cell_type": "code",
   "execution_count": 6,
   "id": "2e4b1336",
   "metadata": {},
   "outputs": [
    {
     "data": {
      "text/plain": [
       "86400"
      ]
     },
     "execution_count": 6,
     "metadata": {},
     "output_type": "execute_result"
    }
   ],
   "source": [
    "Minutes_per_hour = 60\n",
    "Seconds_per_day = Minutes_per_hour *24*60\n",
    "Seconds_per_day"
   ]
  },
  {
   "cell_type": "markdown",
   "id": "c0ae9569",
   "metadata": {},
   "source": [
    "# Calculate seconds per day again, but this time save the result in a variable called seconds_per_day"
   ]
  },
  {
   "cell_type": "code",
   "execution_count": 7,
   "id": "49ab6f9a",
   "metadata": {},
   "outputs": [
    {
     "data": {
      "text/plain": [
       "86400"
      ]
     },
     "execution_count": 7,
     "metadata": {},
     "output_type": "execute_result"
    }
   ],
   "source": [
    "Seconds_per_day= Seconds_per_hour*24\n",
    "Seconds_per_day\n"
   ]
  },
  {
   "cell_type": "markdown",
   "id": "5d85df9b",
   "metadata": {},
   "source": [
    "# Divide seconds_per_day by seconds_per_hour. Use floating-point (/) division."
   ]
  },
  {
   "cell_type": "code",
   "execution_count": 11,
   "id": "2114198f",
   "metadata": {},
   "outputs": [
    {
     "data": {
      "text/plain": [
       "24.0"
      ]
     },
     "execution_count": 11,
     "metadata": {},
     "output_type": "execute_result"
    }
   ],
   "source": [
    "Seconds_per_day/ Seconds_per_hour"
   ]
  },
  {
   "cell_type": "markdown",
   "id": "bde591e9",
   "metadata": {},
   "source": [
    "# Divide seconds_per_day by seconds_per_hour, using integer (//) division. Did this number agree with the floating-point value from the previous question, aside from the final .0?"
   ]
  },
  {
   "cell_type": "code",
   "execution_count": 12,
   "id": "f41b1f39",
   "metadata": {},
   "outputs": [
    {
     "data": {
      "text/plain": [
       "24"
      ]
     },
     "execution_count": 12,
     "metadata": {},
     "output_type": "execute_result"
    }
   ],
   "source": [
    "Seconds_per_day // Seconds_per_hour"
   ]
  },
  {
   "cell_type": "markdown",
   "id": "bfdffb18",
   "metadata": {},
   "source": [
    "# Write a generator, genPrimes, that returns the sequence of prime numbers on successive calls to its next() method: 2, 3, 5, 7, 11, ..."
   ]
  },
  {
   "cell_type": "code",
   "execution_count": 30,
   "id": "241e4f13",
   "metadata": {},
   "outputs": [],
   "source": [
    "def genPrimes():\n",
    "    Primes=[2]\n",
    "    while True:\n",
    "        next = primes[-1]\n",
    "        yield next\n",
    "        nextPrime = primes[-1]+1\n",
    "        count=0\n",
    "        ans = False\n",
    "        while not ans:\n",
    "            for item in primes:\n",
    "                if nextPrime % itms !=0:\n",
    "                    count+=1\n",
    "                if count == len(primes):\n",
    "                    primes.append(nextPrime)\n",
    "                    ans=True\n",
    "                else:\n",
    "                    nextPrime+=1\n",
    "                    count = 0\n"
   ]
  },
  {
   "cell_type": "code",
   "execution_count": 34,
   "id": "18a848ad",
   "metadata": {},
   "outputs": [],
   "source": []
  },
  {
   "cell_type": "code",
   "execution_count": null,
   "id": "49155288",
   "metadata": {},
   "outputs": [],
   "source": []
  }
 ],
 "metadata": {
  "kernelspec": {
   "display_name": "Python 3",
   "language": "python",
   "name": "python3"
  },
  "language_info": {
   "codemirror_mode": {
    "name": "ipython",
    "version": 3
   },
   "file_extension": ".py",
   "mimetype": "text/x-python",
   "name": "python",
   "nbconvert_exporter": "python",
   "pygments_lexer": "ipython3",
   "version": "3.8.8"
  }
 },
 "nbformat": 4,
 "nbformat_minor": 5
}
